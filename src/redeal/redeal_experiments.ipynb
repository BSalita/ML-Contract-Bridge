{
 "cells": [
  {
   "cell_type": "code",
   "execution_count": 1,
   "id": "b04e8a34",
   "metadata": {
    "ExecuteTime": {
     "end_time": "2021-08-23T08:12:53.742986Z",
     "start_time": "2021-08-23T08:12:53.649087Z"
    }
   },
   "outputs": [
    {
     "data": {
      "text/plain": [
       "'♠AT75♡Q75♢AQ86♣K6 ♠QJ92♡J964♢J7543♣ ♠K83♡AK83♢♣QJT972 ♠64♡T2♢KT92♣A8543'"
      ]
     },
     "execution_count": 1,
     "metadata": {},
     "output_type": "execute_result"
    }
   ],
   "source": [
    "# todo:\n",
    "# how is import redeal getting resolved? was it because it was installed?\n",
    "# is there a better way to print/format than _short_str()\n",
    "\n",
    "from redeal import *\n",
    "\n",
    "def accept(deal):\n",
    "    return deal.north.hcp >= 15\n",
    "\n",
    "dealer = Deal.prepare({'S': 'K83 AK83 - QJT972'})\n",
    "\n",
    "deal = dealer(accept)\n",
    "\n",
    "deal._short_str()"
   ]
  },
  {
   "cell_type": "code",
   "execution_count": 2,
   "id": "e82c79a7",
   "metadata": {
    "ExecuteTime": {
     "end_time": "2021-08-23T08:13:19.813724Z",
     "start_time": "2021-08-23T08:12:53.743986Z"
    }
   },
   "outputs": [
    {
     "name": "stdout",
     "output_type": "stream",
     "text": [
      "\tpass\t3NT\t5C\t6C\t6NT\t\n",
      "pass\t\t-3.81\t-4.82\t-6.20\t+4.27\n",
      "\t\t(0.17)\t(0.11)\t(0.28)\t(0.23)\n",
      "3NT\t+3.81\t\t-0.96\t-4.52\t+6.07\n",
      "\t(0.17)\t\t(0.14)\t(0.27)\t(0.25)\n",
      "5C\t+4.82\t+0.96\t\t-4.05\t+6.94\n",
      "\t(0.11)\t(0.14)\t\t(0.29)\t(0.25)\n",
      "6C\t+6.20\t+4.52\t+4.05\t\t+7.62\n",
      "\t(0.28)\t(0.27)\t(0.29)\t\t(0.21)\n",
      "6NT\t-4.27\t-6.07\t-6.94\t-7.62\t\n",
      "\t(0.23)\t(0.25)\t(0.25)\t(0.21)\t\n"
     ]
    }
   ],
   "source": [
    "# takes 30s\n",
    "# Code from: http://datadaydreams.com/posts/a-simulation-tutorial-for-better-decisionmaking-at-bridge/\n",
    "# 1. Sample random deals in a loop (the so-called \"in the long run\").\n",
    "# 2. Accept those which satisfy constraints (as defined in the accept function).\n",
    "# 3. Compute double dummy score of each competing contract.\n",
    "# 4. Save result in a payoff table.\n",
    "\n",
    "from redeal import *\n",
    "from redeal import dds\n",
    "from redeal.global_defs import Seat, Suit, Card, Rank, Strain\n",
    "\n",
    "Deal.set_str_style('short')\n",
    "Hand.set_str_style('short')\n",
    "\n",
    "vuln = False\n",
    "predeal = {Seat['S']: H('AJ874 A986 A A53')}\n",
    "dealer = Deal.prepare(predeal)\n",
    "\n",
    "def accept(deal):\n",
    "    if deal.north.hcp > 10:\n",
    "        return False\n",
    "    if len(deal.north.clubs) not in [6, 7]:\n",
    "        return False\n",
    "    if deal.north.clubs.hcp < 3:\n",
    "        return False\n",
    "    return True\n",
    "\n",
    "imps_payoff = Payoff(('pass', '3NT', '5C', '6C', '6NT'), imps)\n",
    "\n",
    "found = 0\n",
    "n = 1000\n",
    "for _ in range(1000 * n):\n",
    "    if found > n:\n",
    "        break\n",
    "    deal = dealer()\n",
    "    if not accept(deal):\n",
    "        continue\n",
    "    found += 1\n",
    "    score_3c = deal.dd_score('3CN', vuln)\n",
    "    score_3n = deal.dd_score('3NS', vuln)\n",
    "    score_5c = deal.dd_score('5CN', vuln)\n",
    "    score_6c = deal.dd_score('6CN', vuln)\n",
    "    score_6n = deal.dd_score('6NS', vuln)\n",
    "    data = {\n",
    "        'pass': score_3c,\n",
    "        '3NT': score_3n,\n",
    "        '5C': score_5c,\n",
    "        '6C': score_6c,\n",
    "        '6NT': score_6n,\n",
    "    }\n",
    "    imps_payoff.add_data(data)\n",
    "\n",
    "imps_payoff.report()"
   ]
  },
  {
   "cell_type": "code",
   "execution_count": 3,
   "id": "2b47b45f",
   "metadata": {
    "ExecuteTime": {
     "end_time": "2021-08-23T08:13:19.909749Z",
     "start_time": "2021-08-23T08:13:19.815721Z"
    }
   },
   "outputs": [
    {
     "data": {
      "text/plain": [
       "{'finesse': 455, 'ruffout': 274}"
      ]
     },
     "execution_count": 3,
     "metadata": {},
     "output_type": "execute_result"
    }
   ],
   "source": [
    "# 1. Sample random hands for E-W.\n",
    "# 2. Count how many times the ruffing finesse line works\n",
    "# 3. Count how many times the ruff-the-ten-out line works.\n",
    "\n",
    "predeal = {\n",
    "    Seat['S']: H('AJ874 A986 A A53'),\n",
    "    Seat['N']: H('T6 J4 J2 KQJ9876'),\n",
    "    Seat['E']: H('- KQ 4 42'),\n",
    "    Seat['W']: H('- 532 83 T'),\n",
    "}\n",
    "dealer = Deal.prepare(predeal)\n",
    "\n",
    "winning_line = dict(finesse=0, ruffout=0)\n",
    "\n",
    "n = 1000\n",
    "for _ in range(n):\n",
    "    deal = dealer()\n",
    "    if Rank['T'] in deal.west.hearts:\n",
    "        winning_line['finesse'] += 1\n",
    "    if len(deal.east.hearts) == 3 and Rank['T'] in deal.east.hearts:\n",
    "            winning_line['ruffout'] += 1\n",
    "winning_line"
   ]
  },
  {
   "cell_type": "code",
   "execution_count": 4,
   "id": "34653a8a",
   "metadata": {
    "ExecuteTime": {
     "end_time": "2021-08-23T08:13:57.407892Z",
     "start_time": "2021-08-23T08:13:19.911739Z"
    }
   },
   "outputs": [
    {
     "name": "stdout",
     "output_type": "stream",
     "text": [
      "\t♠9\t♠2\t♡K\t♡T\t♢K\t♢9\t♢7\t♣4\t♣2\t\n",
      "♠9\t\t-0.00\t-0.38\t+0.29\t+0.35\t+0.11\t+0.09\t+0.18\t+0.18\n",
      "\t\t(0.00)\t(0.04)\t(0.05)\t(0.04)\t(0.04)\t(0.04)\t(0.02)\t(0.02)\n",
      "♠2\t+0.00\t\t-0.38\t+0.29\t+0.35\t+0.11\t+0.09\t+0.18\t+0.18\n",
      "\t(0.00)\t\t(0.04)\t(0.05)\t(0.04)\t(0.04)\t(0.04)\t(0.02)\t(0.02)\n",
      "♡K\t+0.38\t+0.38\t\t+0.69\t+0.71\t+0.48\t+0.46\t+0.56\t+0.56\n",
      "\t(0.04)\t(0.04)\t\t(0.03)\t(0.04)\t(0.04)\t(0.04)\t(0.03)\t(0.03)\n",
      "♡T\t-0.29\t-0.29\t-0.69\t\t+0.04\t-0.20\t-0.22\t-0.12\t-0.12\n",
      "\t(0.05)\t(0.05)\t(0.03)\t\t(0.05)\t(0.05)\t(0.05)\t(0.05)\t(0.05)\n",
      "♢K\t-0.35\t-0.35\t-0.71\t-0.04\t\t-0.26\t-0.28\t-0.18\t-0.18\n",
      "\t(0.04)\t(0.04)\t(0.04)\t(0.05)\t\t(0.02)\t(0.03)\t(0.04)\t(0.04)\n",
      "♢9\t-0.11\t-0.11\t-0.48\t+0.20\t+0.26\t\t-0.02\t+0.07\t+0.07\n",
      "\t(0.04)\t(0.04)\t(0.04)\t(0.05)\t(0.02)\t\t(0.01)\t(0.03)\t(0.03)\n",
      "♢7\t-0.09\t-0.09\t-0.46\t+0.22\t+0.28\t+0.02\t\t+0.09\t+0.09\n",
      "\t(0.04)\t(0.04)\t(0.04)\t(0.05)\t(0.03)\t(0.01)\t\t(0.03)\t(0.03)\n",
      "♣4\t-0.18\t-0.18\t-0.56\t+0.12\t+0.18\t-0.07\t-0.09\t\t+0.00\n",
      "\t(0.02)\t(0.02)\t(0.03)\t(0.05)\t(0.04)\t(0.03)\t(0.03)\t\t(0.00)\n",
      "♣2\t-0.18\t-0.18\t-0.56\t+0.12\t+0.18\t-0.07\t-0.09\t+0.00\t\n",
      "\t(0.02)\t(0.02)\t(0.03)\t(0.05)\t(0.04)\t(0.03)\t(0.03)\t(0.00)\t\n"
     ]
    }
   ],
   "source": [
    "# takes 40s\n",
    "# use simulation and double dummy analysis to find the best lead.\n",
    "\n",
    "predeal = {Seat['E']: H('92 KQT K97654 42')}\n",
    "dealer = Deal.prepare(predeal)\n",
    "accept_north = accept\n",
    "\n",
    "contract = Contract.from_str('6CN')\n",
    "\n",
    "lead_payoff = Payoff(\n",
    "    sorted(dds.valid_cards(dealer(), 'C', 'E'), reverse=True),\n",
    "    lambda ti, tj: imps(contract.score(ti), contract.score(tj))\n",
    ")\n",
    "\n",
    "found = 0\n",
    "n = 1000\n",
    "for _ in range(1000*n):\n",
    "    if found > n:\n",
    "        continue\n",
    "    deal = dealer()\n",
    "    if not accept_north(deal):\n",
    "        continue\n",
    "    if deal.south.hcp < 16:\n",
    "        continue\n",
    "    has_ace = lambda hand: Rank['A'] in hand\n",
    "    n_aces_west = sum(map(int, map(has_ace,\n",
    "        [deal.west.spades, deal.west.hearts, deal.west.diamonds, deal.west.clubs]\n",
    "    )))\n",
    "    if n_aces_west > 1:\n",
    "        continue\n",
    "    found += 1\n",
    "    lead_payoff.add_data(deal.dd_all_tricks('C', 'E'))\n",
    "\n",
    "# display results\n",
    "lead_payoff.report()"
   ]
  }
 ],
 "metadata": {
  "kernelspec": {
   "display_name": "Python 3 (ipykernel)",
   "language": "python",
   "name": "python3"
  },
  "language_info": {
   "codemirror_mode": {
    "name": "ipython",
    "version": 3
   },
   "file_extension": ".py",
   "mimetype": "text/x-python",
   "name": "python",
   "nbconvert_exporter": "python",
   "pygments_lexer": "ipython3",
   "version": "3.9.6"
  }
 },
 "nbformat": 4,
 "nbformat_minor": 5
}

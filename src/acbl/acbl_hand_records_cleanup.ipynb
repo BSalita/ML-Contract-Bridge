{
 "cells": [
  {
   "cell_type": "code",
   "execution_count": null,
   "id": "0e9ab67c",
   "metadata": {
    "ExecuteTime": {
     "end_time": "2021-10-02T21:24:41.556537Z",
     "start_time": "2021-10-02T21:24:41.540911Z"
    }
   },
   "outputs": [],
   "source": [
    "# takes 1h per 100k hands.\n",
    "# Read acbl_hand_records.pkl file and clean up double dummy (DD) and par errors.\n",
    "# Best to re-use previous cleaned up results as performance is slow. Use previous results unless record is new.\n",
    "# It's not sufficient to validate par score vul calcs by simply correcting vul because some scores would be missing.\n",
    "# Creates ../acbl/acbl_hand_records_cleaned.pkl\n",
    "\n",
    "# todo:\n",
    "# acbl_hand_records.pkl are incorrect due to legacy ignoring of vul. Clean here or correct sql in previous step? \n",
    "# figure out why this line throws an exception: stdhrs.at[grp_start+handno,'Par'] = pars\n",
    "# board_record_string has replaced '10' with 'T'. This is confusing as it doesn't match sql. Needed?\n",
    "\n",
    "# next steps:\n",
    "# merge-hand-records.ipynb merges acbl and tcg standardized hand records?\n",
    "\n",
    "# previous steps:\n",
    "# acbl_sql_to_hand_records.ipynb creates acbl_hand_records.pkl\n",
    "\n",
    "# Requirements\n",
    "# https://github.com/Afwas/python-dds with some of my mods."
   ]
  },
  {
   "cell_type": "code",
   "execution_count": null,
   "id": "a5daff5d",
   "metadata": {
    "ExecuteTime": {
     "end_time": "2021-10-02T21:24:43.041012Z",
     "start_time": "2021-10-02T21:24:41.556537Z"
    }
   },
   "outputs": [],
   "source": [
    "import pandas as pd\n",
    "import pathlib\n",
    "import mlBridgeLib\n",
    "from IPython.display import display # needed to define display() method in vscode"
   ]
  },
  {
   "cell_type": "code",
   "execution_count": null,
   "id": "1b71de6c",
   "metadata": {
    "ExecuteTime": {
     "end_time": "2021-10-02T21:24:43.056638Z",
     "start_time": "2021-10-02T21:24:43.041012Z"
    }
   },
   "outputs": [],
   "source": [
    "# override pandas display options\n",
    "mlBridgeLib.pd_options_display()"
   ]
  },
  {
   "cell_type": "code",
   "execution_count": null,
   "id": "d509a657",
   "metadata": {
    "ExecuteTime": {
     "end_time": "2021-10-02T21:24:43.072265Z",
     "start_time": "2021-10-02T21:24:43.056638Z"
    }
   },
   "outputs": [],
   "source": [
    "rootPath = pathlib.Path('e:/bridge/data')\n",
    "acblPath = rootPath.joinpath('acbl')"
   ]
  },
  {
   "cell_type": "code",
   "execution_count": null,
   "id": "e9a5422b",
   "metadata": {
    "ExecuteTime": {
     "end_time": "2021-10-02T21:25:01.167238Z",
     "start_time": "2021-10-02T21:24:43.072265Z"
    }
   },
   "outputs": [],
   "source": [
    "# takes 20s\n",
    "acbl_hand_records_filename = 'acbl_hand_records.pkl'\n",
    "acbl_hand_records_file = acblPath.joinpath(acbl_hand_records_filename)\n",
    "stdhrs = pd.read_pickle(acbl_hand_records_file)\n",
    "display(len(stdhrs),stdhrs)"
   ]
  },
  {
   "cell_type": "code",
   "execution_count": null,
   "id": "74b0b09e",
   "metadata": {
    "ExecuteTime": {
     "end_time": "2021-10-02T21:26:48.621182Z",
     "start_time": "2021-10-02T21:25:01.167238Z"
    },
    "scrolled": true
   },
   "outputs": [],
   "source": [
    "# takes 20s + 1m + 1m\n",
    "# similar to acbl_hand_records_dd_experiments\n",
    "acbl_hand_records_cleaned_filename = 'acbl_hand_records_cleaned.pkl'\n",
    "acbl_hand_records_cleaned_file = acblPath.joinpath(acbl_hand_records_cleaned_filename)\n",
    "if acbl_hand_records_cleaned_file.exists():\n",
    "    hrcdf = pd.read_pickle(acbl_hand_records_cleaned_file)\n",
    "    display(len(hrcdf),hrcdf.head())\n",
    "    # Preferred to use pd.merge but caused \"out of memory\" condition. Experiment with using dicts instead.\n",
    "    DDmakesd = dict(zip(hrcdf['board_record_string'],hrcdf['DDmakes']))\n",
    "    Pard = dict(zip(hrcdf['board_record_string'],hrcdf['Par']))\n",
    "    #display(DDmakesd)\n",
    "    #stdhrs = pd.merge(stdhrs,hrcdf[['EventBoard','DDmakes','Par']],on='EventBoard',how='left')\n",
    "    #display(hrcdf[hrcdf['EventBoard'].isin(stdhrs['EventBoard'])]\n",
    "    #display(len(stdhrs),stdhrs)\n",
    "    # takes 1m\n",
    "    DDmakesClean = stdhrs.apply(lambda r: DDmakesd[r['board_record_string']] if r['board_record_string'] in DDmakesd else None,axis='columns')\n",
    "    b = DDmakesClean.notna() & stdhrs['DDmakes'].ne(DDmakesClean)\n",
    "    assert all(~b)\n",
    "    # takes 1m\n",
    "    # verify that dirty Pars are still dirty\n",
    "    ParClean = stdhrs.apply(lambda r: Pard[r['board_record_string']] if r['board_record_string'] in Pard else None,axis='columns')\n",
    "    b = ParClean.notna() & stdhrs['Par'].ne(ParClean)\n",
    "    display(stdhrs[b])\n",
    "    # assign clean Pars. verify that all Pars are now cleaned.\n",
    "    stdhrs.loc[b,'Par'] = ParClean\n",
    "    b = ParClean.notna() & stdhrs['Par'].ne(ParClean)\n",
    "    assert all(~b)\n",
    "else:\n",
    "    ParClean = pd.Series()"
   ]
  },
  {
   "cell_type": "code",
   "execution_count": null,
   "id": "e614b3db",
   "metadata": {
    "ExecuteTime": {
     "end_time": "2021-10-02T21:26:48.636808Z",
     "start_time": "2021-10-02T21:26:48.621182Z"
    }
   },
   "outputs": [],
   "source": [
    "# valdiate calculated dd result by comparing against known (assumed) correct dd. Similar to functions.CompareTable().\n",
    "def CompareDDTables(DDtable1, DDtable2):\n",
    "    for suit in range(dds.DDS_STRAINS):\n",
    "        for pl in range(4):\n",
    "            if DDtable1[suit][pl] != DDtable2[4 * suit + pl]:\n",
    "                return False\n",
    "    return True"
   ]
  },
  {
   "cell_type": "code",
   "execution_count": null,
   "id": "36cd94ed",
   "metadata": {
    "ExecuteTime": {
     "end_time": "2021-10-02T21:26:48.652435Z",
     "start_time": "2021-10-02T21:26:48.636808Z"
    }
   },
   "outputs": [],
   "source": [
    "# valdiate calculated par result by comparing against known (assumed) correct par. Similar to functions.ComparePar().\n",
    "def ComparePars(par1, par2):\n",
    "    if par1[0] != par2[0]:\n",
    "        return False\n",
    "    if len(par1[1]) != len(par2[1]):\n",
    "        return False\n",
    "    for p1,p2 in zip(sorted(par1[1],key=lambda k: k[1]),sorted(par2[1],key=lambda k: k[1])):\n",
    "        if p1 != p2:\n",
    "            if p1[1] != p2[1] or p1[2] != p2[2] or p1[3] != p2[3]:\n",
    "                return False # suit/double/direction difference\n",
    "            if p1[0]+p1[4] != p2[0]+p2[4]:\n",
    "                return False # only needs to have trick count same. ignore if levels are same (min level+overs vs max level+0)\n",
    "    return True"
   ]
  },
  {
   "cell_type": "code",
   "execution_count": null,
   "id": "c8f33a2e",
   "metadata": {
    "ExecuteTime": {
     "end_time": "2021-10-02T21:26:48.668061Z",
     "start_time": "2021-10-02T21:26:48.652435Z"
    }
   },
   "outputs": [],
   "source": [
    "# undertricks: 0 = make; 1-13 = sacrifice\n",
    "# overTricks: 0-3; e.g. 1 for 4S + 1\n",
    "# level: 1-7\n",
    "denom = 'NSHDC'\n",
    "seats = ['N','E','S','W','NS','EW']\n",
    "\n",
    "dealer_d = {'N':0, 'E':1, 'S':2, 'W':3}\n",
    "vul_d = {'None':0, 'Both':1, 'N_S':2, 'E_W':3} # dds vul encoding is weird"
   ]
  },
  {
   "cell_type": "code",
   "execution_count": null,
   "id": "25dc5360",
   "metadata": {
    "ExecuteTime": {
     "end_time": "2021-10-02T21:26:49.043086Z",
     "start_time": "2021-10-02T21:26:48.668061Z"
    }
   },
   "outputs": [],
   "source": [
    "# perform initialization for calculation of double dummy (all positions and all strains) and Pars.\n",
    "\n",
    "import dds\n",
    "import ctypes\n",
    "import functions\n",
    "\n",
    "starting_handno = 0 # for restarting at a particular hando (0-len(stdhrs)). normally 0.\n",
    "\n",
    "DDdealsPBN = dds.ddTableDealsPBN()\n",
    "tableRes = dds.ddTablesRes()\n",
    "pres = dds.allParResults()\n",
    "presmaster = dds.parResultsMaster()\n",
    "\n",
    "mode = 0\n",
    "tFilter = ctypes.c_int * dds.DDS_STRAINS\n",
    "trumpFilter = tFilter(0, 0, 0, 0, 0)\n",
    "line = ctypes.create_string_buffer(80)\n",
    "\n",
    "dds.SetMaxThreads(0)\n",
    "max_tables = dds.MAXNOOFTABLES\n",
    "df = stdhrs[ParClean.isna()]\n",
    "nhands = len(df)\n",
    "checkpoint_after_every = 1000"
   ]
  },
  {
   "cell_type": "code",
   "execution_count": null,
   "id": "21308c29",
   "metadata": {
    "ExecuteTime": {
     "end_time": "2021-10-02T23:23:07.138777Z",
     "start_time": "2021-10-02T21:26:49.043086Z"
    },
    "scrolled": true
   },
   "outputs": [],
   "source": [
    "# takes 1h per 100k hands.\n",
    "# Perform dd and par calcs. Restartable.\n",
    "# todo: implement direction in pbn. always using 'N:' for now.\n",
    "# todo: some pars in acbl_hand_records.pkl are incorrect due to ignoring of vul. Need to correct pkl in previous step.\n",
    "\n",
    "for n,grp_start in enumerate(range(starting_handno,nhands,max_tables)):\n",
    "    n += 1\n",
    "    grp_count = min(nhands-grp_start,max_tables)\n",
    "    DDdealsPBN.noOfTables = grp_count\n",
    "    print(f'Processing group:{n} hands:{grp_start} to {grp_start+grp_count} of {nhands}')\n",
    "    DDtables = []\n",
    "    for handno in range(grp_count):\n",
    "        r = df.iloc[grp_start+handno]\n",
    "        nsew_tuple = r['Hands']\n",
    "        pbn = 'N:'+' '.join('.'.join([suit for suit in suits]) for suits in nsew_tuple)\n",
    "        assert len(pbn) == 1+1+13*4+3*4+3, len(pbn) # 69=='N'+':'+(13 cards per hand)+(3 '.' per suit per hand)+3 spaces\n",
    "        pbn_encoded = pbn.encode()\n",
    "        #print(len(pbn),pbn,pbn_encoded)\n",
    "        DDdealsPBN.deals[handno].cards = pbn_encoded\n",
    "        nsew_tuple = r['DDmakes']\n",
    "        DDtable = [nsew_tuple[nesw][cdhsn] for cdhsn in [3,2,1,0,4] for nesw in range(4)] # convert indexing from mlb to dds\n",
    "        assert len(DDtable) == 5*4, DDtable\n",
    "        DDtables.append(DDtable)\n",
    "\n",
    "    # CalcAllTablesPBN will do multi-threading\n",
    "    res = dds.CalcAllTablesPBN(ctypes.pointer(DDdealsPBN), mode, trumpFilter, ctypes.pointer(tableRes), ctypes.pointer(pres))\n",
    "\n",
    "    if res != dds.RETURN_NO_FAULT:\n",
    "        dds.ErrorMessage(res, line)\n",
    "        print(f'CalcAllTablesPBN: DDS error: {line.value.decode(\"utf-8\")}')\n",
    "        assert False, grp_start\n",
    "    \n",
    "    for handno in range(0, grp_count):\n",
    "        r = df.iloc[grp_start+handno]\n",
    "        #display(r)\n",
    "        ref = r['ref'][1]\n",
    "        dealer = r['Dealer']\n",
    "        assert dealer in 'NESW'\n",
    "        vul = r['Vul']\n",
    "        assert vul in ['None','N_S','E_W','Both'], r\n",
    "        par = r['Par']\n",
    "        assert type(par) is tuple, r\n",
    "        assert len(par) == 2, r\n",
    "        assert type(par[0]) is int, r\n",
    "        assert type(par[1]) is list, r\n",
    "        assert len(par[1]) > 0, r\n",
    "        par_result = ctypes.pointer(presmaster)\n",
    "        dd_result = ctypes.pointer(tableRes.results[handno])\n",
    "\n",
    "        # Par calculations are not multi-threading\n",
    "        res = dds.DealerParBin(dd_result, par_result, dealer_d[dealer], vul_d[vul])\n",
    "        if res != dds.RETURN_NO_FAULT:\n",
    "            dds.ErrorMessage(res, line)\n",
    "            print(f'DealerParBin: DDS error: {line.value.decode(\"utf-8\")}')\n",
    "            assert False, r\n",
    "        \n",
    "        score = par_result.contents.score\n",
    "        if score == 0:\n",
    "            pars = (0, [(0, '', '', '', 0)]) # par score is for everyone to pass (1 out of 100,000)\n",
    "        else:\n",
    "            assert par_result.contents.number > 0, r\n",
    "            pars = (score,[])\n",
    "            for i in range(par_result.contents.number):\n",
    "                ct = par_result.contents.contracts[i]    \n",
    "                #print(f'Par[{i}]: underTricks:{ct.underTricks} overTricks:{ct.overTricks} level:{ct.level} denom:{ct.denom} seats:{ct.seats}')\n",
    "                assert ct.underTricks == 0 or ct.overTricks == 0\n",
    "                pars[1].append((ct.level,denom[ct.denom],'*' if ct.underTricks else '',seats[ct.seats],ct.overTricks-ct.underTricks))\n",
    "\n",
    "        dd_eq = CompareDDTables(dd_result.contents.resTable, DDtables[handno])\n",
    "        par_eq = ComparePars(pars, par)\n",
    "        if not dd_eq or not par_eq:\n",
    "            functions.PrintPBNHand(f'Group:{n} Hand:{grp_start+handno+1}/{nhands} ACBL Ref:{ref} Vul:{vul}', DDdealsPBN.deals[handno].cards)\n",
    "            functions.PrintTable(dd_result)\n",
    "            if not dd_eq:\n",
    "                print(f'DD mismatch: Current:{DDtables[handno]}')\n",
    "                # DDtable = dd_result.contents.resTable\n",
    "                #DDtable = [nsew_tuple[nesw][cdhsn] for cdhsn in [3,2,1,0,4] for nesw in range(4)] # convert indexing from mlb to dds\n",
    "                # stdhrs.at[grp_start+handno,'DDmakes'] = DDtable\n",
    "                assert False # temp - need to finish compatible DDtable\n",
    "            if not par_eq:\n",
    "                #functions.PrintDealerParBin(par_result)\n",
    "                if pars[0] != par[0]: # differences in par score are usually due to vul-unknown vs vul-known.\n",
    "                    print(f'Par score mismatch: Vul ignorance yielding wrong score?: Calculated:{pars[0]}, Current:{par[0]}')\n",
    "                else:\n",
    "                    print(f'Par contract mismatch: (Vul ignorance effecting interfering bid?): Calculated:{pars[1]}, Current:{par[1]}')\n",
    "                    #assert False\n",
    "                stdhrs.at[r.name,'Par'] = pars\n",
    "            print()\n",
    "    if n%checkpoint_after_every == 0: # save every checkpoint_after_every count (1000).\n",
    "        acbl_hand_records_cleaned_filename = 'acbl_hand_records_cleaned.pkl'\n",
    "        acbl_hand_records_cleaned_file = acblPath.joinpath(acbl_hand_records_cleaned_filename)\n",
    "        stdhrs.to_pickle(acbl_hand_records_cleaned_file) # takes 40s\n",
    "        print(f'Checkpoint at group {n}: df written to {acbl_hand_records_cleaned_file}')\n",
    "        starting_handno = grp_start\n",
    "starting_handno = nhands"
   ]
  },
  {
   "cell_type": "code",
   "execution_count": null,
   "id": "60594dd6",
   "metadata": {
    "ExecuteTime": {
     "end_time": "2021-10-02T23:23:42.110999Z",
     "start_time": "2021-10-02T23:23:07.138777Z"
    }
   },
   "outputs": [],
   "source": [
    "# takes 40s\n",
    "acbl_hand_records_cleaned_filename = 'acbl_hand_records_cleaned.pkl'\n",
    "acbl_hand_records_cleaned_file = acblPath.joinpath(acbl_hand_records_cleaned_filename)\n",
    "stdhrs.to_pickle(acbl_hand_records_cleaned_file)"
   ]
  }
 ],
 "metadata": {
  "interpreter": {
   "hash": "f57940f833d5abb0c0c347e8f3b5621e2a4106c67dd8c346e4d74fd3dfad0a9b"
  },
  "kernelspec": {
   "display_name": "Python 3 (ipykernel)",
   "language": "python",
   "name": "python3"
  },
  "language_info": {
   "codemirror_mode": {
    "name": "ipython",
    "version": 3
   },
   "file_extension": ".py",
   "mimetype": "text/x-python",
   "name": "python",
   "nbconvert_exporter": "python",
   "pygments_lexer": "ipython3",
   "version": "3.9.7"
  }
 },
 "nbformat": 4,
 "nbformat_minor": 5
}

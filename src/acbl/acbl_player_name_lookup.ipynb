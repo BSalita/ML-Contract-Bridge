{
 "cells": [
  {
   "cell_type": "code",
   "execution_count": 1,
   "id": "0326983e",
   "metadata": {
    "ExecuteTime": {
     "end_time": "2021-07-16T14:49:11.338796Z",
     "start_time": "2021-07-16T14:49:10.839334Z"
    }
   },
   "outputs": [],
   "source": [
    "import pandas as pd\n",
    "import pathlib\n",
    "import pickle\n",
    "import re\n",
    "import sys"
   ]
  },
  {
   "cell_type": "code",
   "execution_count": null,
   "id": "d04f938e",
   "metadata": {},
   "outputs": [],
   "source": [
    "sys.path.append(str(pathlib.Path.cwd().parent))\n",
    "sys.path\n",
    "from mlBridgeLib import mlBridgeLib"
   ]
  },
  {
   "cell_type": "code",
   "execution_count": 2,
   "id": "be2854e8",
   "metadata": {
    "ExecuteTime": {
     "end_time": "2021-07-16T14:49:11.353848Z",
     "start_time": "2021-07-16T14:49:11.340811Z"
    }
   },
   "outputs": [],
   "source": [
    "rootPath = pathlib.Path('e:/bridge/data')\n",
    "acblPath = rootPath.joinpath('acbl')\n",
    "tcgPath = rootPath.joinpath('TheCommonGame')"
   ]
  },
  {
   "cell_type": "code",
   "execution_count": 3,
   "id": "5671abe0",
   "metadata": {
    "ExecuteTime": {
     "end_time": "2021-07-16T14:49:11.416615Z",
     "start_time": "2021-07-16T14:49:11.355839Z"
    }
   },
   "outputs": [],
   "source": [
    "# takes 3s\n",
    "acbl_player_name_dict_filename = 'acbl_player_name_dict.pkl'\n",
    "acbl_player_name_dict_file = acblPath.joinpath(acbl_player_name_dict_filename)\n",
    "with open(acbl_player_name_dict_file,'rb') as f:\n",
    "    acbl_player_name_d = pickle.load(f)"
   ]
  },
  {
   "cell_type": "code",
   "execution_count": 4,
   "id": "51b96236",
   "metadata": {
    "ExecuteTime": {
     "end_time": "2021-07-16T14:49:11.432615Z",
     "start_time": "2021-07-16T14:49:11.418619Z"
    }
   },
   "outputs": [
    {
     "data": {
      "text/plain": [
       "'Salita, Robert'"
      ]
     },
     "execution_count": 4,
     "metadata": {},
     "output_type": "execute_result"
    }
   ],
   "source": [
    "acbl_player_name_d['2663279']"
   ]
  },
  {
   "cell_type": "code",
   "execution_count": 5,
   "id": "f1df705a",
   "metadata": {
    "ExecuteTime": {
     "end_time": "2021-07-16T14:49:11.447776Z",
     "start_time": "2021-07-16T14:49:11.434587Z"
    }
   },
   "outputs": [],
   "source": [
    "# lookup names in a list. names may contain regex. bonus: '*' is shorthand for '.*'\n",
    "def partial_lookup(partial_name, d):\n",
    "    matches = []\n",
    "    partial_name = partial_name.replace(r'.*',r'*').replace(r'*',r'.*')\n",
    "    partial_names = []\n",
    "    partial_names.append(r'.*'+partial_name+r'.*')\n",
    "    partial_name_split = partial_name.split(',')\n",
    "    if len(partial_name_split) == 2:\n",
    "        partial_names.append(r'.*'+partial_name_split[0]+r'.*'+partial_name_split[1])\n",
    "        partial_names.append(r'.*'+partial_name_split[1]+r'.*'+partial_name_split[0])\n",
    "    for k, v in d.items():\n",
    "        for pns in partial_names:\n",
    "            if re.search(partial_name, v, re.IGNORECASE):\n",
    "                matches.append((k, v))\n",
    "                break\n",
    "    return set(matches)"
   ]
  },
  {
   "cell_type": "code",
   "execution_count": 6,
   "id": "7865b3c5",
   "metadata": {
    "ExecuteTime": {
     "end_time": "2021-07-16T14:49:11.637756Z",
     "start_time": "2021-07-16T14:49:11.448773Z"
    }
   },
   "outputs": [
    {
     "data": {
      "text/plain": [
       "{('2663279', 'Salita, Robert')}"
      ]
     },
     "execution_count": 6,
     "metadata": {},
     "output_type": "execute_result"
    }
   ],
   "source": [
    "partial_lookup('Salita',acbl_player_name_d)"
   ]
  },
  {
   "cell_type": "code",
   "execution_count": 23,
   "id": "af44f094",
   "metadata": {
    "ExecuteTime": {
     "end_time": "2021-07-16T15:46:37.409663Z",
     "start_time": "2021-07-16T15:46:33.927361Z"
    }
   },
   "outputs": [
    {
     "name": "stdout",
     "output_type": "stream",
     "text": [
      "{('5966329', 'Parrish, Adam')}\n",
      "{('6672000', 'Silverstein, Aaron')}\n",
      "{('1320998', 'Lishkov, Aleksandar')}\n",
      "{('5351170', 'Bauman, Margaret'), ('8482098', 'Bingaman, Margo')}\n",
      "{('8691576', 'Palowski, Zibi')}\n",
      "{('3565408', 'Pavlicek, Richard')}\n",
      "{('8744475', 'Castillo, Juan')}\n",
      "{('4490290', 'Muriby, Irina'), ('tmp:616211af-35ed-49c6-b975-01b7a1fc0e77', 'Clark, Irina'), ('9479384', 'Schvarzman, Irina'), ('tmp:d7d5f1b1-fe7c-42ad-8804-6345c1d6b7f0', 'Davydova, Irina'), ('5392284', 'Auerbuch, Irina'), ('7263791', 'Knechtel, Irina'), ('tmp:0b95f35b-3dbf-478a-ad80-b38f2ca6bf01', 'Davydova, Irina'), ('tmp:abb481df-128e-4874-9aee-5debc1bb2654', 'Davydova, Irina'), ('8101485', 'Levitina, Irina'), ('tmp:971ee2c3-5343-4a8e-83b0-21402ba14801', 'Clark, Irina'), ('tmp:c9e91f05-af5f-4f7d-a363-03ceb46aa1cf', 'Davydova, Irina'), ('8471908', 'Kislitsyna, Irina'), ('tmp:09e16e33-67c6-45b8-9d0e-331e918b83a5', 'Davydova, Irina'), ('tmp:4d3bc1e9-a8e0-4e18-99a2-ac643d78d7d0', 'Davydova, Irina'), ('9943846', 'Levitan, Irina')}\n",
      "{('tmp:e458863e-2792-4e80-841a-1dd10868dd82', 'Shenkin, Sharon'), ('4036956', 'Shenkin, Barnet'), ('1832808', 'Shenkin, Maggie'), ('4057147', 'Shenkin, Sarae')}\n",
      "{('3486443', 'Seamon, Rita'), ('2216833', 'Seamon-Molson, Janice')}\n",
      "{('4432363', 'Phillips, Jean'), ('5648289', 'Phillips, J'), ('1875205', 'Phillips, Judy'), ('4460359', 'Phillips, Joe'), ('9437495', 'Phillips, Jeffrey'), ('3614646', 'Phillips, Joan'), ('5835275', 'Phillips, Janice'), ('1260855', 'Phillips, Janet'), ('4814908', 'Phillips, Jeanne'), ('8464316', 'Phillips, Jr, John'), ('4405080', 'Phillips, Judy'), ('2693461', 'Phillips, Jerry'), ('8050295', 'Phillips, Joan'), ('7316631', 'Phillips, Joseph'), ('1531972', 'Phillips, Joy'), ('5628032', 'Phillips, Joe'), ('5710871', 'Phillips, James'), ('3202690', 'Phillips, Joan'), ('4272323', 'Phillips, James'), ('5887070', 'Phillips, Jane'), ('3000648', 'Phillips, June')}\n",
      "{('4897560', 'Fergani, Kamel')}\n",
      "{('tmp:6c1aa8ad-0442-4bc8-9ba6-f2ab0a3151be', 'Pollack, Stephen'), ('tmp:ebacd2ad-2985-4b95-ad2a-c1d4947bc2f4', 'Pollack, Stephen'), ('6812287', 'Pollack, Bernice'), ('tmp:3229c379-b024-4285-804a-c0e6b0b1f088', 'Pollack, Stephen'), ('2768119', 'Pollack, Catherine'), ('4791428', 'Pollack, Joe'), ('tmp:d2d25031-f24b-4af7-af49-53a971e95941', 'Pollack, Stephen'), ('7903049', 'Pollack, Penny'), ('8981701', 'Pollack, Jeannine'), ('tmp:f6311d83-c64f-432f-9805-975220b3ef86', 'Pollack, Stephen'), ('tmp:77649883-e5ed-4813-b982-1597fed4889b', 'Pollack, Stephen'), ('3960374', 'Pollack, Ellen Siegel'), ('8433755', 'Pollack, Brenda'), ('tmp:37e9fa45-f81f-4218-b328-a7290895b65d', 'Pollack, Penny'), ('tmp:ecdf9091-a05a-4aed-913e-d997195648c2', 'Pollack, Stephen'), ('7241631', 'Pollack, Donald'), ('8617406', 'Pollack, Robin'), ('tmp:a8b879d3-f4e6-47cf-a22c-63f5525d1354', 'Pollack, Stephen'), ('5816009', 'Pollack, Judy'), ('9527710', 'Pollack, Karen'), ('tmp:5514d237-a1cf-44dd-a3f7-43dc6ee1e3d0', 'Pollack, Stephen'), ('2079585', 'Pollack, Paul'), ('tmp:7c1465b0-781c-4693-9f45-87b3c7dd722e', 'Pollack, Stephen'), ('tmp:835c0ece-b98f-47de-9f4a-8d593c2b6c10', 'Pollack, Fern'), ('5880106', 'Pollack, Ellen'), ('2861674', 'Pollack, Sally'), ('2515512', 'Pollack, Walter'), ('3235599', 'Pollack, Lynda'), ('7785402', 'Pollack, Harriet'), ('tmp:a798775e-2b3b-4dc3-83f8-084e8e8c6c78', 'Pollack, Stephen'), ('3960633', 'Pollack, Chuck'), ('tmp:cea11522-4914-449e-846d-153056c7a943', 'Pollack, Stephen'), ('6529224', 'Pollack, Frederic'), ('8935327', 'Pollack, Robert'), ('5746191', 'Pollack, Rhoda'), ('tmp:399946f7-8471-46f5-ae78-18eb3fca7d7a', 'Pollack, Randi'), ('tmp:0b388e14-2f33-4b1f-aff4-62cfa887822e', 'Pollack, Ellen'), ('4761596', 'Pollack, Pauline'), ('tmp:2e023179-b743-4f0c-a95e-19ea781c7e4f', 'Pollack, Bernard'), ('6668755', 'Pollack, Michael'), ('tmp:b632802d-f89f-46c8-b5a4-9ddb9a845e62', 'Pollack, Stephen'), ('tmp:0cf6df27-0688-4769-a0bc-ffa7416e7f6d', 'Pollack, Penny'), ('tmp:a6d0641a-f0e5-4827-b551-09c604a3d995', 'Pollack, Stephen'), ('tmp:0c933bf9-28d0-4414-a85b-8eeb13ecb4f7', 'Pollack, Bernard')}\n"
     ]
    },
    {
     "name": "stderr",
     "output_type": "stream",
     "text": [
      "IOPub data rate exceeded.\n",
      "The notebook server will temporarily stop sending output\n",
      "to the client in order to avoid crashing it.\n",
      "To change this limit, set the config variable\n",
      "`--NotebookApp.iopub_data_rate_limit`.\n",
      "\n",
      "Current values:\n",
      "NotebookApp.iopub_data_rate_limit=1000000.0 (bytes/sec)\n",
      "NotebookApp.rate_limit_window=3.0 (secs)\n",
      "\n"
     ]
    }
   ],
   "source": [
    "names = ['Parrish, Adam','Silverstein, Aaron','lishkov','b*man*marg','zibi','Pavlicek','Castillo','irina','Shenkin','Seamon','Phillips, J','Fergani','Pollack','']\n",
    "for n in names:\n",
    "    fnd = partial_lookup(n,acbl_player_name_d)\n",
    "    print(fnd)"
   ]
  },
  {
   "cell_type": "code",
   "execution_count": null,
   "id": "ae2e7c16",
   "metadata": {},
   "outputs": [],
   "source": []
  }
 ],
 "metadata": {
  "kernelspec": {
   "display_name": "Python 3 (ipykernel)",
   "language": "python",
   "name": "python3"
  },
  "language_info": {
   "codemirror_mode": {
    "name": "ipython",
    "version": 3
   },
   "file_extension": ".py",
   "mimetype": "text/x-python",
   "name": "python",
   "nbconvert_exporter": "python",
   "pygments_lexer": "ipython3",
   "version": "3.9.7"
  }
 },
 "nbformat": 4,
 "nbformat_minor": 5
}

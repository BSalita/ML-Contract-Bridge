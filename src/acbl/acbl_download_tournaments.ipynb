{
 "cells": [
  {
   "cell_type": "code",
   "execution_count": 1,
   "source": [
    "# takes 60s per 40 api calls.\r\n",
    "# download player tournament history. skip if already downloaded. player_id list is from BridgePowerRatings.\r\n",
    "\r\n",
    "# previous steps:\r\n",
    "# none\r\n",
    "\r\n",
    "# next steps:\r\n",
    "# create sql db of player tournament data.\r\n",
    "\r\n",
    "# todo:\r\n",
    "# Improve the method of issuing api calls only when needed. Write update info to file?\r\n",
    "# Identify the correct player_id from list for each elite player name. Issue is that multiple players can have same name."
   ],
   "outputs": [],
   "metadata": {
    "ExecuteTime": {
     "end_time": "2021-07-28T15:03:43.816625Z",
     "start_time": "2021-07-28T15:03:43.799626Z"
    }
   }
  },
  {
   "cell_type": "code",
   "execution_count": 2,
   "source": [
    "import pandas as pd\r\n",
    "import pathlib\r\n",
    "from collections import defaultdict\r\n",
    "import mlBridgeLib"
   ],
   "outputs": [],
   "metadata": {
    "ExecuteTime": {
     "end_time": "2021-07-28T15:03:45.313622Z",
     "start_time": "2021-07-28T15:03:43.817626Z"
    }
   }
  },
  {
   "cell_type": "code",
   "execution_count": 3,
   "source": [
    "# override pandas display options\r\n",
    "mlBridgeLib.pd_options_display()"
   ],
   "outputs": [],
   "metadata": {
    "ExecuteTime": {
     "end_time": "2021-07-28T15:03:45.328624Z",
     "start_time": "2021-07-28T15:03:45.315625Z"
    }
   }
  },
  {
   "cell_type": "code",
   "execution_count": 4,
   "source": [
    "rootPath = pathlib.Path('e:/bridge/data')\r\n",
    "acblPath = rootPath.joinpath('acbl')\r\n",
    "acblPath.mkdir(parents=True,exist_ok=True)\r\n",
    "bprPath = rootPath.joinpath('bpr')\r\n",
    "bprPath.mkdir(parents=True,exist_ok=True)"
   ],
   "outputs": [],
   "metadata": {
    "ExecuteTime": {
     "end_time": "2021-07-28T15:03:45.343626Z",
     "start_time": "2021-07-28T15:03:45.330628Z"
    }
   }
  },
  {
   "cell_type": "code",
   "execution_count": 5,
   "source": [
    "# takes 60s per 40 api calls.\r\n",
    "# call acbl api to retrieve player's tournament data.\r\n",
    "# todo: inexplicable variance between 'total' in json and sessions_count. Why? varaince is 0 to -15-ish.\r\n",
    "import requests\r\n",
    "import urllib\r\n",
    "import time\r\n",
    "import json\r\n",
    "def download_tournaments(df,bearer_file):\r\n",
    "    headers = {'accept':'application/json', 'Authorization':bearer[len('Authorization: '):]}\r\n",
    "    start_time = time.time()\r\n",
    "    get_count = 0\r\n",
    "    for n,r in df.iterrows():\r\n",
    "        player_ids = r['player_id']\r\n",
    "        assert type(player_ids) is list, [type(player_ids), player_ids]\r\n",
    "        #print(f\"{time.strftime('%X')} player_id list:{player_ids} Name:{r['Name']} Rank:{r['Rank']}\")\r\n",
    "        print(f\"{time.strftime('%X')} Name:{r['Name']} player_id list:{player_ids}\")\r\n",
    "        for player_id in player_ids:\r\n",
    "            if player_id.startswith('tmp:') or player_id.startswith('#'): # somehow #139 crept into player_id\r\n",
    "                print(f'Skipping player_id:{player_id}')\r\n",
    "                continue\r\n",
    "            else:\r\n",
    "                print(f'Processing player_id:{player_id}')\r\n",
    "            dirPath = acblPath.joinpath('players/'+player_id+'/tournaments')\r\n",
    "            if dirPath.exists():\r\n",
    "                session_file_count = len(list(dirPath.glob('*.session.json')))\r\n",
    "                print(f'dir exists: file count:{session_file_count} dir:{dirPath}')\r\n",
    "                if session_file_count > 0: # todo: temp?\r\n",
    "                    print(f'dir not empty -- skipping')\r\n",
    "                    continue\r\n",
    "            else:\r\n",
    "                print(f'Creating dir:{dirPath}')\r\n",
    "                dirPath.mkdir(parents=True,exist_ok=True)\r\n",
    "                session_file_count = 0\r\n",
    "            path = 'https://api.acbl.org/v1/tournament/player/history_query'\r\n",
    "            query = {'acbl_number':player_id,'page':1,'page_size':50,'start_date':'1900-01-01'}\r\n",
    "            params = urllib.parse.urlencode(query)\r\n",
    "            url = path+'?'+params\r\n",
    "            sessions_count = 0\r\n",
    "            while url:\r\n",
    "                get_count += 1\r\n",
    "                print(f\"{n}/{len(df)} gets:{get_count} rate:{round((time.time()-start_time)/get_count,2)} url:{url}\")\r\n",
    "                #time.sleep(1) # throttle api calling. Maybe not needed as api is taking longer than 1s.\r\n",
    "                response = requests.get(url, headers=headers)\r\n",
    "                if response.status_code in [500]: # 500 is unknown response code. try skipping player\r\n",
    "                    print(f'500: count:{get_count} skipping') # 4476921 - Thx Merle.\r\n",
    "                    next_page_url = None\r\n",
    "                    break\r\n",
    "                assert response.status_code == 200, (n, url, response.status_code)\r\n",
    "                json_response = response.json()\r\n",
    "                json_pretty = json.dumps(json_response, indent=4)\r\n",
    "                #print(json_pretty)\r\n",
    "                next_page_url = json_response['next_page_url']\r\n",
    "                sessions_total = json_response['total'] # is same for every page\r\n",
    "                if sessions_total == session_file_count: # sometimes won't agree because identical sessions. older scores?\r\n",
    "                    print(f'File count correct: {dirPath}: terminating {player_id} early.')\r\n",
    "                    next_page_url = None\r\n",
    "                    sessions_count = sessions_total\r\n",
    "                    break\r\n",
    "                for data in json_response['data']:\r\n",
    "                    sessions_count += 1 # todo: oops, starts first one at 2. need to move\r\n",
    "                    session_id = data['session_id']\r\n",
    "                    filePath = dirPath.joinpath(session_id+'.session.json')\r\n",
    "                    if filePath.exists():\r\n",
    "                        print(f'{sessions_count}/{sessions_total}: File exists: {filePath}: skipping')\r\n",
    "                        continue\r\n",
    "                    print(f'{sessions_count}/{sessions_total}: Writing:',filePath)\r\n",
    "                    with open(filePath,'w',encoding='UTF8') as f:\r\n",
    "                        f.write(json.dumps(data, indent=4))\r\n",
    "                url = next_page_url\r\n",
    "            if sessions_count != sessions_total:\r\n",
    "                print(f'Session count mismatch: {dirPath}: variance:{sessions_count-sessions_total}')"
   ],
   "outputs": [],
   "metadata": {
    "ExecuteTime": {
     "end_time": "2021-07-28T15:03:45.455622Z",
     "start_time": "2021-07-28T15:03:45.345627Z"
    },
    "scrolled": true
   }
  },
  {
   "cell_type": "code",
   "execution_count": 6,
   "source": [
    "# read file containing api bearer secret. acbl calls it a \"Personal Access Token\". Available at https://api.acbl.org/\r\n",
    "bearer_file = pathlib.Path('../../../acbl/acbl_api_authorization_bearer_secret.txt')\r\n",
    "with open(bearer_file,'rb') as f:\r\n",
    "    bearer = f.read()"
   ],
   "outputs": [],
   "metadata": {
    "ExecuteTime": {
     "end_time": "2021-07-28T15:03:45.471624Z",
     "start_time": "2021-07-28T15:03:45.456624Z"
    }
   }
  },
  {
   "cell_type": "code",
   "execution_count": 10,
   "source": [
    "# read all files downloaded from BridgePowerRatings. Download players tournament history.\r\n",
    "# todo: rewrite to pass unique list of player_ids, names. \r\n",
    "# todo: implement download history of pairs and each partners.\r\n",
    "files = list(bprPath.glob('*.pkl'))\r\n",
    "for f in files:\r\n",
    "    df = pd.read_pickle(bprPath.joinpath(f))\r\n",
    "    display(f'Processing file:{f} len:{len(df)}',df.head())\r\n",
    "    if 'player_id' in df:\r\n",
    "        assert 'Name' in df\r\n",
    "        # todo: sort df (e.g. Rank) to better track progress of downloads?\r\n",
    "        #df = df['Rank'].astype('float32').sort_values()\r\n",
    "        download_tournaments(df,bearer_file)\r\n",
    "print(f'Done: Total files processed:{len(files)}')"
   ],
   "outputs": [
    {
     "output_type": "stream",
     "name": "stdout",
     "text": [
      "Done: Total files processed:0\n"
     ]
    }
   ],
   "metadata": {
    "ExecuteTime": {
     "end_time": "2021-07-28T21:33:38.652127Z",
     "start_time": "2021-07-28T21:33:38.646124Z"
    },
    "scrolled": true
   }
  }
 ],
 "metadata": {
  "interpreter": {
   "hash": "f57940f833d5abb0c0c347e8f3b5621e2a4106c67dd8c346e4d74fd3dfad0a9b"
  },
  "kernelspec": {
   "display_name": "Python 3",
   "language": "python",
   "name": "python3"
  },
  "language_info": {
   "codemirror_mode": {
    "name": "ipython",
    "version": 3
   },
   "file_extension": ".py",
   "mimetype": "text/x-python",
   "name": "python",
   "nbconvert_exporter": "python",
   "pygments_lexer": "ipython3",
   "version": "3.8.8"
  }
 },
 "nbformat": 4,
 "nbformat_minor": 2
}
{
 "cells": [
  {
   "cell_type": "code",
   "execution_count": 1,
   "metadata": {
    "ExecuteTime": {
     "end_time": "2021-07-28T15:03:43.816625Z",
     "start_time": "2021-07-28T15:03:43.799626Z"
    }
   },
   "outputs": [],
   "source": [
    "# takes 60s per 40 api calls.\n",
    "# download player tournament history. skip if already downloaded. player_id list is from BridgePowerRatings.\n",
    "\n",
    "# previous steps:\n",
    "# none\n",
    "\n",
    "# next steps:\n",
    "# create sql db of player tournament data.\n",
    "\n",
    "# todo:\n",
    "# Improve the method of issuing api calls only when needed. Write update info to file?\n",
    "# Identify the correct player_id from list for each elite player name. Issue is that multiple players can have same name."
   ]
  },
  {
   "cell_type": "code",
   "execution_count": 2,
   "metadata": {
    "ExecuteTime": {
     "end_time": "2021-07-28T15:03:45.313622Z",
     "start_time": "2021-07-28T15:03:43.817626Z"
    }
   },
   "outputs": [],
   "source": [
    "import pandas as pd\n",
    "import pathlib\n",
    "from collections import defaultdict\n",
    "import mlBridgeLib"
   ]
  },
  {
   "cell_type": "code",
   "execution_count": 3,
   "metadata": {
    "ExecuteTime": {
     "end_time": "2021-07-28T15:03:45.328624Z",
     "start_time": "2021-07-28T15:03:45.315625Z"
    }
   },
   "outputs": [],
   "source": [
    "# override pandas display options\n",
    "mlBridgeLib.pd_options_display()"
   ]
  },
  {
   "cell_type": "code",
   "execution_count": 4,
   "metadata": {
    "ExecuteTime": {
     "end_time": "2021-07-28T15:03:45.343626Z",
     "start_time": "2021-07-28T15:03:45.330628Z"
    }
   },
   "outputs": [],
   "source": [
    "rootPath = pathlib.Path('e:/bridge/data')\n",
    "acblPath = rootPath.joinpath('acbl')\n",
    "acblPath.mkdir(parents=True,exist_ok=True)\n",
    "bprPath = rootPath.joinpath('bpr')\n",
    "bprPath.mkdir(parents=True,exist_ok=True)"
   ]
  },
  {
   "cell_type": "code",
   "execution_count": 5,
   "metadata": {
    "ExecuteTime": {
     "end_time": "2021-07-28T15:03:45.455622Z",
     "start_time": "2021-07-28T15:03:45.345627Z"
    },
    "scrolled": true
   },
   "outputs": [],
   "source": [
    "# takes 60s per 40 api calls.\n",
    "# call acbl api to retrieve player's tournament data.\n",
    "# todo: inexplicable variance between 'total' in json and sessions_count. Why? varaince is 0 to -15-ish.\n",
    "import requests\n",
    "import urllib\n",
    "import time\n",
    "import json\n",
    "def download_tournaments(df,bearer_file):\n",
    "    headers = {'accept':'application/json', 'Authorization':bearer[len('Authorization: '):]}\n",
    "    start_time = time.time()\n",
    "    get_count = 0\n",
    "    for n,r in df.iterrows():\n",
    "        player_ids = r['player_id']\n",
    "        assert type(player_ids) is list, [type(player_ids), player_ids]\n",
    "        #print(f\"{time.strftime('%X')} player_id list:{player_ids} Name:{r['Name']} Rank:{r['Rank']}\")\n",
    "        print(f\"{time.strftime('%X')} Name:{r['Name']} player_id list:{player_ids}\")\n",
    "        for player_id in player_ids:\n",
    "            if player_id.startswith('tmp:') or player_id.startswith('#'): # somehow #139 crept into player_id\n",
    "                print(f'Skipping player_id:{player_id}')\n",
    "                continue\n",
    "            else:\n",
    "                print(f'Processing player_id:{player_id}')\n",
    "            dirPath = acblPath.joinpath('players/'+player_id+'/tournaments')\n",
    "            if dirPath.exists():\n",
    "                session_file_count = len(list(dirPath.glob('*.session.json')))\n",
    "                print(f'dir exists: file count:{session_file_count} dir:{dirPath}')\n",
    "                if session_file_count > 0: # todo: temp?\n",
    "                    print(f'dir not empty -- skipping')\n",
    "                    continue\n",
    "            else:\n",
    "                print(f'Creating dir:{dirPath}')\n",
    "                dirPath.mkdir(parents=True,exist_ok=True)\n",
    "                session_file_count = 0\n",
    "            path = 'https://api.acbl.org/v1/tournament/player/history_query'\n",
    "            query = {'acbl_number':player_id,'page':1,'page_size':50,'start_date':'1900-01-01'}\n",
    "            params = urllib.parse.urlencode(query)\n",
    "            url = path+'?'+params\n",
    "            sessions_count = 0\n",
    "            while url:\n",
    "                get_count += 1\n",
    "                print(f\"{n}/{len(df)} gets:{get_count} rate:{round((time.time()-start_time)/get_count,2)} url:{url}\")\n",
    "                #time.sleep(1) # throttle api calling. Maybe not needed as api is taking longer than 1s.\n",
    "                response = requests.get(url, headers=headers)\n",
    "                if response.status_code in [500]: # 500 is unknown response code. try skipping player\n",
    "                    print(f'500: count:{get_count} skipping') # 4476921 - Thx Merle.\n",
    "                    next_page_url = None\n",
    "                    break\n",
    "                assert response.status_code == 200, (n, url, response.status_code)\n",
    "                json_response = response.json()\n",
    "                json_pretty = json.dumps(json_response, indent=4)\n",
    "                #print(json_pretty)\n",
    "                next_page_url = json_response['next_page_url']\n",
    "                sessions_total = json_response['total'] # is same for every page\n",
    "                if sessions_total == session_file_count: # sometimes won't agree because identical sessions. older scores?\n",
    "                    print(f'File count correct: {dirPath}: terminating {player_id} early.')\n",
    "                    next_page_url = None\n",
    "                    sessions_count = sessions_total\n",
    "                    break\n",
    "                for data in json_response['data']:\n",
    "                    sessions_count += 1 # todo: oops, starts first one at 2. need to move\n",
    "                    session_id = data['session_id']\n",
    "                    filePath = dirPath.joinpath(session_id+'.session.json')\n",
    "                    if filePath.exists():\n",
    "                        print(f'{sessions_count}/{sessions_total}: File exists: {filePath}: skipping')\n",
    "                        continue\n",
    "                    print(f'{sessions_count}/{sessions_total}: Writing:',filePath)\n",
    "                    with open(filePath,'w',encoding='UTF8') as f:\n",
    "                        f.write(json.dumps(data, indent=4))\n",
    "                url = next_page_url\n",
    "            if sessions_count != sessions_total:\n",
    "                print(f'Session count mismatch: {dirPath}: variance:{sessions_count-sessions_total}')"
   ]
  },
  {
   "cell_type": "code",
   "execution_count": 6,
   "metadata": {
    "ExecuteTime": {
     "end_time": "2021-07-28T15:03:45.471624Z",
     "start_time": "2021-07-28T15:03:45.456624Z"
    }
   },
   "outputs": [],
   "source": [
    "# read file containing api bearer secret. acbl calls it a \"Personal Access Token\". Available at https://api.acbl.org/\n",
    "bearer_file = pathlib.Path('../../../acbl/acbl_api_authorization_bearer_secret.txt')\n",
    "with open(bearer_file,'rb') as f:\n",
    "    bearer = f.read()"
   ]
  },
  {
   "cell_type": "code",
   "execution_count": 10,
   "metadata": {
    "ExecuteTime": {
     "end_time": "2021-07-28T21:33:38.652127Z",
     "start_time": "2021-07-28T21:33:38.646124Z"
    },
    "scrolled": true
   },
   "outputs": [
    {
     "name": "stdout",
     "output_type": "stream",
     "text": [
      "Done: Total files processed:0\n"
     ]
    }
   ],
   "source": [
    "# read all files downloaded from BridgePowerRatings. Download players tournament history.\n",
    "# todo: rewrite to pass unique list of player_ids, names. \n",
    "# todo: implement download history of pairs and each partners.\n",
    "files = list(bprPath.glob('*.pkl'))\n",
    "for f in files:\n",
    "    df = pd.read_pickle(bprPath.joinpath(f))\n",
    "    display(f'Processing file:{f} len:{len(df)}',df.head())\n",
    "    if 'player_id' in df:\n",
    "        assert 'Name' in df\n",
    "        # todo: sort df (e.g. Rank) to better track progress of downloads?\n",
    "        #df = df['Rank'].astype('float32').sort_values()\n",
    "        download_tournaments(df,bearer_file)\n",
    "print(f'Done: Total files processed:{len(files)}')"
   ]
  }
 ],
 "metadata": {
  "interpreter": {
   "hash": "f57940f833d5abb0c0c347e8f3b5621e2a4106c67dd8c346e4d74fd3dfad0a9b"
  },
  "kernelspec": {
   "display_name": "Python 3 (ipykernel)",
   "language": "python",
   "name": "python3"
  },
  "language_info": {
   "codemirror_mode": {
    "name": "ipython",
    "version": 3
   },
   "file_extension": ".py",
   "mimetype": "text/x-python",
   "name": "python",
   "nbconvert_exporter": "python",
   "pygments_lexer": "ipython3",
   "version": "3.9.7"
  }
 },
 "nbformat": 4,
 "nbformat_minor": 2
}
